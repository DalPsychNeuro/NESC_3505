{
 "cells": [
  {
   "cell_type": "markdown",
   "metadata": {
    "collapsed": false
   },
   "source": [
    "# Assignment 1\n",
    "## NESC 3505\n",
    "\n",
    "Welcome! This is the final part of assignment 1. You will likely have found it by following the instruction in the main Assignment 1 document. Congratulations!\n",
    "\n",
    "You are currently viewing a Jupyter notebook file on CoCalc. As you should already have learned, Jupyter notebooks are composed of *cells*. Cells can be of three types: code, Markdown, or raw. This cell you're reading is Markdown, a simple language for formatting rich text. The cell below is a code cell, where you can write and run Python commands (Note: this is a Python notebook. CoCalc tells you this in the top right corner of this notebook.). Raw cells are \"raw\" text — they aren't fancy-formatted Markdown, and they aren't runnable as code. They also aren't terribly useful.\n",
    "\n",
    "You execute (run) cells by selecting them (by clicking once on the cell) and then pressing the Shift & Enter keys on your keyboard simultaneously. Double-clicking a cell will make it editable. The currently-selected (active) cell will be highlighted in blue, and that border will turn green when the cell is in edit mode.\n",
    "\n",
    "If you double-click on this cell, the text will change to a *fixed-width* font and you'll see the Markdown formatting tags (like `#` for headings). Try it! Then hit Shift & Enter to execute the cell (which applies and renders the Markdown formatting).\n",
    "\n",
    "Below is a code cell with some very simple Python code. You haven't started learning Python yet, but as you can see, at its simplest Python can act like a calculator. Try executing the cell and see what happens."
   ]
  },
  {
   "cell_type": "code",
   "execution_count": 5,
   "metadata": {
    "collapsed": false
   },
   "outputs": [
    {
     "data": {
      "text/plain": [
       "2"
      ]
     },
     "execution_count": 5,
     "metadata": {
     },
     "output_type": "execute_result"
    }
   ],
   "source": [
    "1 + 1"
   ]
  },
  {
   "cell_type": "markdown",
   "metadata": {
    "collapsed": false
   },
   "source": [
    "Take note of a couple of things here. Firstly, The text to the left of the cell changed from `In: []:` to `In [1]:` (or some number). \"In\" stands for \"input\", and the number indicates that the cell was run, and the numbers increase sequentially as you run cells. In general, it's a good idea to run Jupyter notebook cells sequentially, from top to bottom. But sometimes, when you're writing and debugging your code, you'll run them many times before you get it right, and sometimes you'll run a few cells and then go back and run them again. So the numbers are useful in keeping track of what you've done, in what order. If a process takes a while to run, then the cell will show `In: [*]:` while the cell is running. \n",
    "\n",
    "The outputs (`Out`) are numbered to match the inputs. The more important thing to know about the `Out[]:` output is that it  *only reflects the last output from the cell*. In the example above, that's ok, but check out what happens when you run the cell below:"
   ]
  },
  {
   "cell_type": "code",
   "execution_count": 8,
   "metadata": {
    "collapsed": false
   },
   "outputs": [
    {
     "data": {
      "text/plain": [
       "6"
      ]
     },
     "execution_count": 8,
     "metadata": {
     },
     "output_type": "execute_result"
    }
   ],
   "source": [
    "1 + 1\n",
    "2 + 2\n",
    "3 + 3"
   ]
  },
  {
   "cell_type": "markdown",
   "metadata": {
    "collapsed": false
   },
   "source": [
    "...you only see the output of the last line! This is normally not what you want. Thus in Jupyter if you want to see the output of commands you run in a cell, you should embed the command inside a `print()` statement, as shown below:"
   ]
  },
  {
   "cell_type": "code",
   "execution_count": 9,
   "metadata": {
    "collapsed": false
   },
   "outputs": [
    {
     "name": "stdout",
     "output_type": "stream",
     "text": [
      "2\n",
      "4\n",
      "6\n"
     ]
    }
   ],
   "source": [
    "print(1 + 1)\n",
    "print(2 + 2)\n",
    "print(3 + 3)"
   ]
  },
  {
   "cell_type": "markdown",
   "metadata": {
    "collapsed": false
   },
   "source": [
    "In your first Python lesson, you'll learn about data *types*. For now, it's worth noting that if you want to output text in Python, you need to put it inside quotation marks (Python doesn't care if you use single or double quotes, as long as you start and finish with teh same one). So, running the cell below produces an error (do it!):"
   ]
  },
  {
   "cell_type": "code",
   "execution_count": 10,
   "metadata": {
    "collapsed": false
   },
   "outputs": [
    {
     "ename": "SyntaxError",
     "evalue": "invalid syntax (<ipython-input-10-10cb182148e3>, line 1)",
     "output_type": "error",
     "traceback": [
      "\u001b[0;36m  File \u001b[0;32m\"<ipython-input-10-10cb182148e3>\"\u001b[0;36m, line \u001b[0;32m1\u001b[0m\n\u001b[0;31m    print(Hello World)\u001b[0m\n\u001b[0m                    ^\u001b[0m\n\u001b[0;31mSyntaxError\u001b[0m\u001b[0;31m:\u001b[0m invalid syntax\n"
     ]
    }
   ],
   "source": [
    "print(Hello World)"
   ]
  },
  {
   "cell_type": "markdown",
   "metadata": {
    "collapsed": false
   },
   "source": [
    "But this works as desired:"
   ]
  },
  {
   "cell_type": "code",
   "execution_count": 11,
   "metadata": {
    "collapsed": false
   },
   "outputs": [
    {
     "name": "stdout",
     "output_type": "stream",
     "text": [
      "Hello world!\n"
     ]
    }
   ],
   "source": [
    "print(\"Hello world!\")"
   ]
  },
  {
   "cell_type": "code",
   "execution_count": 19,
   "metadata": {
    "collapsed": false
   },
   "outputs": [
   ],
   "source": [
    "# Even in code cells, you can add random commentary that's not Python code — as long as you start each line with a hash mark, like this line is.\n",
    "\n",
    "# These lines are called \"comments\" and it is good coding practice to use them.\n",
    "\n",
    "# Comments allow you to make notes about your code. When you're starting out, you may want to add comments so that the next time you look at your code, you remember what a particular line or section does. Or, you may want to leave a \"note to self\" if you want to come back and add things to a particular section later.\n",
    "\n",
    "# Although CoCalc \"wraps\" your comments to the width of the window, \n",
    "# not all programs do this. So it's good programming style to put in line breaks\n",
    "# manually for your comments, like this."
   ]
  },
  {
   "cell_type": "markdown",
   "metadata": {
    "collapsed": false
   },
   "source": [
    "---\n",
    "\n",
    "## A bit more about Jupyter notebooks\n",
    "\n",
    "The top of this window probably looks a bit intimidating, with a lot of menus and buttons. You'll gradually get familiar with many of these functions, although some you may never use in this course. For now, we'll go through the most important functions and concepts."
   ]
  },
  {
   "cell_type": "markdown",
   "metadata": {
    "collapsed": false
   },
   "source": [
    "### Working With Files\n",
    "\n",
    "In general, when using CoCalc you don't need to explicitly save files. Notebooks are auto-saved so you don't have to worry about it! But there is a button to manually save between auto-saves.\n",
    "\n",
    "Although for most of your work you will receive assignments with pre-made files to work in, for projects, for practice, or just for fun, you can create new files — including Jupyter notebooks but a variety of others as well. The `File > New` menu item will give you the options for different types of files you can create. All of your CoCalc files are associated with your account, and will last through the duration of the course — and even beyond! Your CoCalc account will not expire at the end of the course, although the paid upgrades to your account will. But you will still be able to use CoCalc and access your files after the course ends. The `File`menu also provides options for downloading your notebook files, including converting them from Jupyter notebooks to PDFs or other formats.\n",
    "\n",
    "You can have multiple files open at once, and they appear as tabs at the top of the CoCalc window. In general, the tabs/files you have open will stay there even when you close your browser window/tab or log out, so the next time you connect to CoCalc you'll see those tabs still there. **HOWEVER** (and this is important), even if you leave your browser with the CoCalc window/tab open on your computer, CoCalc will \"terminate\" your running notebook after about 2 hours.\n",
    "\n",
    "If you have multiple files open, normally they'll just appear as tabs across the top. However, over in the top right section of the window, you'll find these buttons:\n",
    "![](images/frames.png)\n",
    "\n",
    "which allow you to divide the window into multiple \"frames\" and view multiple files at one time; each pane is itself sub-dividable into more frames!\n",
    "\n",
    "**Pro tip:** Notebook files can get really long. CoCalc has a \"Contents\" button that will show you a table of contents for a notebook file. It makes this automatically from all the Markdown headings it finds. Find the Contents button above and click it to see."
   ]
  },
  {
   "cell_type": "markdown",
   "metadata": {
    "collapsed": false
   },
   "source": [
    "### Running Kernels and Items in Memory\n",
    "\n",
    "This may seem contradictory: how is it that the file is still open, but the notebook is terminated? The answer lies in the fact that when you open a notebook file, you are _also_ starting a new Python **kernel** — a live, running instance of Python that will interpret your Python commands and produce output. Each notebook you open will start a new Python kernel. As long as the kernel is running, the things you do in Python will be stored in memory (RAM). This will make more sense as you start to use Python, but when you're running Python, you generally don't just run commands and get output. You also read in files to memory, and store the results of one command in memory for use in the next command. So if at the top of a notebook file I run:\n",
    "`x = 1`\n",
    "then later on, maybe 10 cells later, if I type\n",
    "`print(x)` I will get the output `1`, because the variable `x` was stored in memory. However, if my notebook's kernel terminates, then everything that was held in memory is erased. The next time I open or start to use the notebook, if I tried to run that `print(x)` command I would get an error, because `x` is no longer in memory. I would need to start at the top of the file and run all the commands again.\n",
    "\n",
    "In general, this isn't a big deal. Python is very efficient, and for the most part we are working with reasonably small data sets so your code should not take long to run or re-run. It is important to understand this, though, because you will get confusing errors if you come back to your work after several hours, and try to just pick up where you left off.\n",
    "\n",
    "If you're wondering why kernels are automatically terminated, it's because CoCalc runs on cloud servers. Every active kernel is consuming resources (computer hardware and energy) at a data centre somewhere. Terminating \"idle\" kernels saves CoCalc's operator money, as well as reducing the energy demands of the data centre.\n",
    "\n",
    "You'll see at the top that there is a `Kernel` menu. That has a few options, including restarting a kernel manually (which will clear everything out of memory. You may want to do this sometimes as you're working, to get a fresh start rather than trying to un-do errors you made.), running all the cells in the notebook (an easy way to get back to where you left off, when your kernel terminated), and clearing all of the output in the notebook.\n",
    "\n",
    "**Pro tip:** In general, it's a good idea to clear all output when you restart the kernel, so you don't get confused between old and new outputs."
   ]
  },
  {
   "cell_type": "markdown",
   "metadata": {
    "collapsed": false
   },
   "source": [
    "### Working in Notebooks\n",
    "\n",
    "There is an **undo** function, which works similarly to other software you'll have used, sequentially undoing things you've typed in cells. **Importantly**, the undo function does _not_ undo the results of commands you've run in Python. Continuign with our previous example, this means that if I ran the Python command `x = 1`, then ran \"undo\", Jupyter would delete my typing, `x = 1`, but in the kernel's memory, `x` would still equal `1`. So I could run `print(x)` the output would be `1`.\n",
    "\n",
    "CoCalc also offers [Time Travel](https://doc.cocalc.com/time-travel.html#). This allows you to revert your notebook file to some specific, previous state. It's essentially like hitting \"undo\" a large (and very specific) number of times, without the risk of carpal tunnel syndrome. \n",
    "\n",
    "You can insert a new cell right below whatever cell is currently active, either by pressing the \"+\" button under the menu, or using the `Insert` menu. The `Cell` menu also has a variety of useful tools for working with cells, which are pretty self-explanatory if you look at them.\n",
    "\n",
    "We encourage you to peruse the menus and randomly push buttons and try things in a notebook file. You will not break the internet (probably). Maybe first create a new notebook file first, though, and don't mess this one up!"
   ]
  },
  {
   "cell_type": "markdown",
   "metadata": {
    "collapsed": false
   },
   "source": [
    "### Help!\n",
    "\n",
    "CoCalc has [extensive documentation](https://doc.cocalc.com/). You may want to read the [Cocalc Student Guide](https://doc.cocalc.com/teaching-students.html)."
   ]
  },
  {
   "cell_type": "markdown",
   "metadata": {
    "collapsed": false
   },
   "source": [
    "---\n",
    "## Practice Markdown\n",
    "\n",
    "As described in the textbook, Markdown is a simple language for creating rich text out of simple text. It was designed to emulate the basics of HTML for creating web pages, but simpler. \n",
    "\n",
    "[You can see a Markdown cheatsheet here](https://www.markdownguide.org/cheat-sheet/)\n",
    "\n",
    "In a cell below this one, use Markdown to tell us a little bit about yourself. Specifically, tell us:\n",
    "- your name\n",
    "- a photo of you\n",
    "- year\n",
    "- major\n",
    "- why you enrolled in this course\n",
    "- what got you interested in neuroscience /or psychology\n",
    "- what your career plans are (or post-graduation plans, if you haven't figured that out yet!)\n",
    "\n",
    "Impress us with your newfound command of the Markdown language. Use headings above your answers for each question, and maybe thrown in some bold or italic text, a list, or something else.\n",
    "\n",
    "You will first need to make a cell below this one. You can use the `+` icon in the top left of this window (underneath the \"File\" menu, not the \"+\" in a blue circle higher up) or simply execute this cell and a new one below will be created. Note: By default, new cells are code cells. Use the drop-down menu at the top (which will say \"code\") to change it to a Markdown cell.\n",
    "\n",
    "Don't ask how long your answers should be. Think of it this way: we're asking because we want to get to know you a little, and so that you can demonstrate some facility with Markdown. So you need to produce enough content to meet those goals. But, we have 20 of these to read, and other things to do with our lives. So try to keep it to a length that we'll find interesting and not boring. "
   ]
  }
 ],
 "metadata": {
  "kernelspec": {
   "display_name": "Python 3 (system-wide)",
   "language": "python",
   "metadata": {
    "cocalc": {
     "description": "Python 3 programming language",
     "priority": 100,
     "url": "https://www.python.org/"
    }
   },
   "name": "python3"
  },
  "language_info": {
   "codemirror_mode": {
    "name": "ipython",
    "version": 3
   },
   "file_extension": ".py",
   "mimetype": "text/x-python",
   "name": "python",
   "nbconvert_exporter": "python",
   "pygments_lexer": "ipython3",
   "version": "3.6.9"
  }
 },
 "nbformat": 4,
 "nbformat_minor": 4
}